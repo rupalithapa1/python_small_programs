{
 "cells": [
  {
   "cell_type": "code",
   "execution_count": 1,
   "id": "77f7a1e2-d03c-4781-b209-0bda0b9662ba",
   "metadata": {},
   "outputs": [
    {
     "name": "stdout",
     "output_type": "stream",
     "text": [
      "Recursive Fibonacci:\n",
      "0 1 1 2 3 5 8 13 21 34 \n",
      "\n",
      "Loop Fibonacci:\n",
      "[0, 1, 1, 2, 3, 5, 8, 13, 21, 34]\n"
     ]
    }
   ],
   "source": [
    "# Function to generate Fibonacci numbers using recursion\n",
    "def fibonacci_recursive(n):\n",
    "    if n <= 1:\n",
    "        return n\n",
    "    return fibonacci_recursive(n - 1) + fibonacci_recursive(n - 2)\n",
    "\n",
    "# Function to generate Fibonacci numbers using loops (efficient)\n",
    "def fibonacci_loop(n):\n",
    "    fib_sequence = [0, 1]  # Initialize first two Fibonacci numbers\n",
    "    for i in range(2, n):\n",
    "        next_value = fib_sequence[i - 1] + fib_sequence[i - 2]\n",
    "        fib_sequence.append(next_value)\n",
    "    return fib_sequence\n",
    "\n",
    "# Generate the first 10 Fibonacci numbers\n",
    "n = 10\n",
    "print(\"Recursive Fibonacci:\")\n",
    "for i in range(n):\n",
    "    print(fibonacci_recursive(i), end=\" \")\n",
    "\n",
    "print(\"\\n\\nLoop Fibonacci:\")\n",
    "print(fibonacci_loop(n))"
   ]
  },
  {
   "cell_type": "code",
   "execution_count": null,
   "id": "c8a31afa-42f6-4b24-83cd-28d93ed60f21",
   "metadata": {},
   "outputs": [],
   "source": []
  }
 ],
 "metadata": {
  "kernelspec": {
   "display_name": "Python 3 (ipykernel)",
   "language": "python",
   "name": "python3"
  },
  "language_info": {
   "codemirror_mode": {
    "name": "ipython",
    "version": 3
   },
   "file_extension": ".py",
   "mimetype": "text/x-python",
   "name": "python",
   "nbconvert_exporter": "python",
   "pygments_lexer": "ipython3",
   "version": "3.11.7"
  }
 },
 "nbformat": 4,
 "nbformat_minor": 5
}
