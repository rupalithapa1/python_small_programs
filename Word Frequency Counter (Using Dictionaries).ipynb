{
 "cells": [
  {
   "cell_type": "code",
   "execution_count": 1,
   "id": "ff110560-cac6-48d3-8ca6-f6427f1da5f6",
   "metadata": {},
   "outputs": [
    {
     "name": "stdout",
     "output_type": "stream",
     "text": [
      "hello: 2\n",
      "world: 1\n",
      "python: 2\n",
      "is: 1\n",
      "amazing: 1\n"
     ]
    }
   ],
   "source": [
    "# Function to count the frequency of each word in a text\n",
    "def word_count(text):\n",
    "    word_freq = {}  # Dictionary to store word frequencies\n",
    "    words = text.split()  # Split text into words\n",
    "    for word in words:\n",
    "        word = word.lower().strip(\",.!?\")  # Normalize words (case-insensitive)\n",
    "        word_freq[word] = word_freq.get(word, 0) + 1  # Increment count for each word\n",
    "    return word_freq\n",
    "\n",
    "# Test with a sample text\n",
    "sample_text = \"Hello, world! Hello, Python. Python is amazing!\"\n",
    "word_frequencies = word_count(sample_text)\n",
    "\n",
    "# Print the word frequencies\n",
    "for word, count in word_frequencies.items():\n",
    "    print(f\"{word}: {count}\")"
   ]
  },
  {
   "cell_type": "code",
   "execution_count": null,
   "id": "b5884499-216e-46ad-9c4c-a8d33e697f66",
   "metadata": {},
   "outputs": [],
   "source": []
  }
 ],
 "metadata": {
  "kernelspec": {
   "display_name": "Python 3 (ipykernel)",
   "language": "python",
   "name": "python3"
  },
  "language_info": {
   "codemirror_mode": {
    "name": "ipython",
    "version": 3
   },
   "file_extension": ".py",
   "mimetype": "text/x-python",
   "name": "python",
   "nbconvert_exporter": "python",
   "pygments_lexer": "ipython3",
   "version": "3.11.7"
  }
 },
 "nbformat": 4,
 "nbformat_minor": 5
}
